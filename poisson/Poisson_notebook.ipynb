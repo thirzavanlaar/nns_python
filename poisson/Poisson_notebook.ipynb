{
 "cells": [
  {
   "cell_type": "code",
   "execution_count": 20,
   "metadata": {},
   "outputs": [],
   "source": [
    "from matplotlib import pyplot as plt\n",
    "import numpy as np\n",
    "from netCDF4 import Dataset as NetCDFFile\n",
    "import math\n",
    "from scipy.spatial import distance\n",
    "from math import cos,sin,asin,sqrt\n",
    "import random"
   ]
  },
  {
   "cell_type": "code",
   "execution_count": 2,
   "metadata": {},
   "outputs": [],
   "source": [
    "grid = NetCDFFile('/home/vanlaar/nns_python/NarvalDom2_NestE-R02B14_DOM03.nc')\n",
    "clon_grid = grid.variables['clon'][:]\n",
    "clat_grid = grid.variables['clat'][:]"
   ]
  },
  {
   "cell_type": "code",
   "execution_count": 3,
   "metadata": {},
   "outputs": [],
   "source": [
    "def haversine(x, y):\n",
    "    radius = 6371000\n",
    "    lon1, lat1 = x\n",
    "    lon2, lat2 = y\n",
    "\n",
    "    dlat = lat2-lat1\n",
    "    dlon = lon2-lon1\n",
    "\n",
    "    a = sin(dlat/2)**2 + cos(lat1)*cos(lat2)*(sin(dlon/2))**2\n",
    "    c = 2*asin(sqrt(a))\n",
    "    distance = radius*c  #distance in m\n",
    "    return distance\n",
    "\n"
   ]
  },
  {
   "cell_type": "code",
   "execution_count": 4,
   "metadata": {},
   "outputs": [],
   "source": [
    "radius = 500"
   ]
  },
  {
   "cell_type": "code",
   "execution_count": 18,
   "metadata": {},
   "outputs": [],
   "source": [
    "def get_neighbours(ref_cell, radius):\n",
    "    \"\"\" Returns the indeces of the cells that are within radius form the reference cell \n",
    "    \"\"\"\n",
    "\n",
    "    R = 6378.1 #Radius of the Earth\n",
    "    d = radius/1000. #Distance in km\n",
    "\n",
    "    maxlat_brng = np.deg2rad(0)\n",
    "    maxlon_brng = np.deg2rad(90)\n",
    "    minlat_brng = np.deg2rad(180)\n",
    "    minlon_brng = np.deg2rad(270)\n",
    "\n",
    "    lat1 = clat_grid[ref_cell]\n",
    "    lon1 = clon_grid[ref_cell]\n",
    "\n",
    "    maxlat = math.asin( math.sin(lat1)*math.cos(d/R) + math.cos(lat1)*math.sin(d/R)*math.cos(maxlat_brng))\n",
    "    maxlon = lon1 + math.atan2(math.sin(maxlon_brng)*math.sin(d/R)*math.cos(lat1), math.cos(d/R)-math.sin(lat1)*math.sin(lat1))\n",
    "    minlat = math.asin( math.sin(lat1)*math.cos(d/R) + math.cos(lat1)*math.sin(d/R)*math.cos(minlat_brng))\n",
    "    minlon = lon1 + math.atan2(math.sin(minlon_brng)*math.sin(d/R)*math.cos(lat1), math.cos(d/R)-math.sin(lat1)*math.sin(lat1))\n",
    "\n",
    "    # Gives you a square box around the reference cell:\n",
    "    cells_box, = np.where((clon_grid < maxlon) & (clon_grid > minlon) & (clat_grid < maxlat) & (clat_grid > minlat))\n",
    "        \n",
    "    cellcentres = np.vstack((clon_grid[cells_box],clat_grid[cells_box])).T\n",
    "    middlecell = np.array([[lon1,lat1]])\n",
    "\n",
    "    # Compute distance for every point to the reference cell...\n",
    "    distances = distance.cdist(middlecell, cellcentres, haversine)\n",
    "\n",
    "    # ...and select those that are inside the given radius to obtain a circle around the reference cell.\n",
    "    dist_idx = np.where(distances < d*1000)\n",
    "    cells_circle = cells_box[dist_idx[1]]\n",
    "\n",
    "    return cells_circle\n",
    "\n",
    "\n",
    "\n",
    "\n",
    "neighbour_cell = cells[neighbour_coords]\n",
    "        if neighbour_cell is not None:\n",
    "            # This cell is occupied: store this index of the contained point    .\n",
    "            neighbours.append(neighbour_cell)\n",
    "\n"
   ]
  },
  {
   "cell_type": "code",
   "execution_count": 16,
   "metadata": {},
   "outputs": [
    {
     "name": "stdout",
     "output_type": "stream",
     "text": [
      "[  148   149   150   151   152 10730 10732 10733]\n"
     ]
    }
   ],
   "source": [
    "cell_index = 150\n",
    "size = 10\n",
    "\n",
    "cells_circle = get_neighbours(cell_index,300)\n",
    "print cells_circle\n"
   ]
  },
  {
   "cell_type": "code",
   "execution_count": 24,
   "metadata": {},
   "outputs": [],
   "source": [
    "def point_valid(pt):\n",
    "    \"\"\"Is pt a valid point to emit as a sample?\n",
    "\n",
    "    It must be no closer than r from any other point: check the cells in its\n",
    "    immediate neighbourhood.\n",
    "\n",
    "    \"\"\"\n",
    "\n",
    "    neighbours = get_neighbours(pt, 1000) # radius must be 2*lmax\n",
    "    for idx in neighbours:\n",
    "        nearby_pt = samples[idx]\n",
    "        # Squared distance between or candidate point, pt, and this nearby_pt.\n",
    "        x = np.vstack(clon_grid[pt],clat_grid[pt]).T\n",
    "        y = np.vstack(clon_grid[nearby_pt],clat_grid[nearby_pt]).T\n",
    "        distance = haversine(x,y)\n",
    "        if distance < radius**2:\n",
    "            # The points are too close, so pt is not a candidate.\n",
    "            return False\n",
    "    # All points tested: if we're here, pt is valid\n",
    "    return True"
   ]
  },
  {
   "cell_type": "code",
   "execution_count": 28,
   "metadata": {},
   "outputs": [
    {
     "ename": "IndexError",
     "evalue": "list index out of range",
     "output_type": "error",
     "traceback": [
      "\u001b[0;31m---------------------------------------------------------------------------\u001b[0m",
      "\u001b[0;31mIndexError\u001b[0m                                Traceback (most recent call last)",
      "\u001b[0;32m<ipython-input-28-a55b6472d5b2>\u001b[0m in \u001b[0;36m<module>\u001b[0;34m()\u001b[0m\n\u001b[1;32m     19\u001b[0m     \u001b[0;32mreturn\u001b[0m \u001b[0mFalse\u001b[0m\u001b[0;34m\u001b[0m\u001b[0m\n\u001b[1;32m     20\u001b[0m \u001b[0;34m\u001b[0m\u001b[0m\n\u001b[0;32m---> 21\u001b[0;31m \u001b[0mtest\u001b[0m \u001b[0;34m=\u001b[0m \u001b[0mget_point\u001b[0m\u001b[0;34m(\u001b[0m\u001b[0;36m150\u001b[0m\u001b[0;34m,\u001b[0m \u001b[0;36m5\u001b[0m\u001b[0;34m)\u001b[0m\u001b[0;34m\u001b[0m\u001b[0m\n\u001b[0m",
      "\u001b[0;32m<ipython-input-28-a55b6472d5b2>\u001b[0m in \u001b[0;36mget_point\u001b[0;34m(ref_cell, k)\u001b[0m\n\u001b[1;32m     12\u001b[0m         \u001b[0mpossibilities\u001b[0m \u001b[0;34m=\u001b[0m \u001b[0mget_neighbours\u001b[0m\u001b[0;34m(\u001b[0m\u001b[0mref_cell\u001b[0m\u001b[0;34m,\u001b[0m \u001b[0mradius\u001b[0m\u001b[0;34m)\u001b[0m\u001b[0;34m\u001b[0m\u001b[0m\n\u001b[1;32m     13\u001b[0m         \u001b[0mpt\u001b[0m \u001b[0;34m=\u001b[0m \u001b[0mnp\u001b[0m\u001b[0;34m.\u001b[0m\u001b[0mrandom\u001b[0m\u001b[0;34m.\u001b[0m\u001b[0mchoice\u001b[0m\u001b[0;34m(\u001b[0m\u001b[0mpossibilities\u001b[0m\u001b[0;34m)\u001b[0m\u001b[0;34m\u001b[0m\u001b[0m\n\u001b[0;32m---> 14\u001b[0;31m         \u001b[0;32mif\u001b[0m \u001b[0mpoint_valid\u001b[0m\u001b[0;34m(\u001b[0m\u001b[0mpt\u001b[0m\u001b[0;34m)\u001b[0m\u001b[0;34m:\u001b[0m\u001b[0;34m\u001b[0m\u001b[0m\n\u001b[0m\u001b[1;32m     15\u001b[0m             \u001b[0;32mreturn\u001b[0m \u001b[0mpt\u001b[0m\u001b[0;34m\u001b[0m\u001b[0m\n\u001b[1;32m     16\u001b[0m         \u001b[0mi\u001b[0m \u001b[0;34m+=\u001b[0m \u001b[0;36m1\u001b[0m\u001b[0;34m\u001b[0m\u001b[0m\n",
      "\u001b[0;32m<ipython-input-24-c435e643e8f4>\u001b[0m in \u001b[0;36mpoint_valid\u001b[0;34m(pt)\u001b[0m\n\u001b[1;32m      9\u001b[0m     \u001b[0mneighbours\u001b[0m \u001b[0;34m=\u001b[0m \u001b[0mget_neighbours\u001b[0m\u001b[0;34m(\u001b[0m\u001b[0mpt\u001b[0m\u001b[0;34m,\u001b[0m \u001b[0;36m1000\u001b[0m\u001b[0;34m)\u001b[0m \u001b[0;31m# radius must be 2*lmax\u001b[0m\u001b[0;34m\u001b[0m\u001b[0m\n\u001b[1;32m     10\u001b[0m     \u001b[0;32mfor\u001b[0m \u001b[0midx\u001b[0m \u001b[0;32min\u001b[0m \u001b[0mneighbours\u001b[0m\u001b[0;34m:\u001b[0m\u001b[0;34m\u001b[0m\u001b[0m\n\u001b[0;32m---> 11\u001b[0;31m         \u001b[0mnearby_pt\u001b[0m \u001b[0;34m=\u001b[0m \u001b[0msamples\u001b[0m\u001b[0;34m[\u001b[0m\u001b[0midx\u001b[0m\u001b[0;34m]\u001b[0m\u001b[0;34m\u001b[0m\u001b[0m\n\u001b[0m\u001b[1;32m     12\u001b[0m         \u001b[0;31m# Squared distance between or candidate point, pt, and this nearby_pt.\u001b[0m\u001b[0;34m\u001b[0m\u001b[0;34m\u001b[0m\u001b[0m\n\u001b[1;32m     13\u001b[0m         \u001b[0mx\u001b[0m \u001b[0;34m=\u001b[0m \u001b[0mnp\u001b[0m\u001b[0;34m.\u001b[0m\u001b[0mvstack\u001b[0m\u001b[0;34m(\u001b[0m\u001b[0mclon_grid\u001b[0m\u001b[0;34m[\u001b[0m\u001b[0mpt\u001b[0m\u001b[0;34m]\u001b[0m\u001b[0;34m,\u001b[0m\u001b[0mclat_grid\u001b[0m\u001b[0;34m[\u001b[0m\u001b[0mpt\u001b[0m\u001b[0;34m]\u001b[0m\u001b[0;34m)\u001b[0m\u001b[0;34m.\u001b[0m\u001b[0mT\u001b[0m\u001b[0;34m\u001b[0m\u001b[0m\n",
      "\u001b[0;31mIndexError\u001b[0m: list index out of range"
     ]
    }
   ],
   "source": [
    "def get_point(ref_cell, k):\n",
    "    \"\"\"Try to find a candidate cell relative to ref_cell to emit in the sample.\n",
    "\n",
    "    We draw up to k points from the annulus of inner radius r, outer radius 2r\n",
    "    around the reference point, refpt. If none of them are suitable (because\n",
    "    they're too close to existing points in the sample), return False.\n",
    "    Otherwise, return the pt.\n",
    "\n",
    "    \"\"\"\n",
    "    i = 0\n",
    "    while i < k:\n",
    "        possibilities = get_neighbours(ref_cell, radius)\n",
    "        pt = np.random.choice(possibilities)\n",
    "        if point_valid(pt):\n",
    "            return pt\n",
    "        i += 1\n",
    "        print pt\n",
    "    # We failed to find a suitable point in the vicinity of refpt.\n",
    "    return False\n",
    "\n",
    "test = get_point(150, 5)"
   ]
  },
  {
   "cell_type": "code",
   "execution_count": 36,
   "metadata": {},
   "outputs": [
    {
     "name": "stdout",
     "output_type": "stream",
     "text": [
      "2846164\n",
      "None\n"
     ]
    },
    {
     "ename": "IndexError",
     "evalue": "list index out of range",
     "output_type": "error",
     "traceback": [
      "\u001b[0;31m---------------------------------------------------------------------------\u001b[0m",
      "\u001b[0;31mIndexError\u001b[0m                                Traceback (most recent call last)",
      "\u001b[0;32m<ipython-input-36-de1bf5990e81>\u001b[0m in \u001b[0;36m<module>\u001b[0;34m()\u001b[0m\n\u001b[1;32m     24\u001b[0m     \u001b[0mrefpt\u001b[0m \u001b[0;34m=\u001b[0m \u001b[0msamples\u001b[0m\u001b[0;34m[\u001b[0m\u001b[0midx\u001b[0m\u001b[0;34m]\u001b[0m\u001b[0;34m\u001b[0m\u001b[0m\n\u001b[1;32m     25\u001b[0m     \u001b[0;31m# Try to pick a new point relative to the reference point.\u001b[0m\u001b[0;34m\u001b[0m\u001b[0;34m\u001b[0m\u001b[0m\n\u001b[0;32m---> 26\u001b[0;31m     \u001b[0mpt\u001b[0m \u001b[0;34m=\u001b[0m \u001b[0mget_point\u001b[0m\u001b[0;34m(\u001b[0m\u001b[0mrefpt\u001b[0m\u001b[0;34m,\u001b[0m \u001b[0;36m7\u001b[0m\u001b[0;34m)\u001b[0m\u001b[0;34m\u001b[0m\u001b[0m\n\u001b[0m\u001b[1;32m     27\u001b[0m     \u001b[0;32mif\u001b[0m \u001b[0mpt\u001b[0m\u001b[0;34m:\u001b[0m\u001b[0;34m\u001b[0m\u001b[0m\n\u001b[1;32m     28\u001b[0m         \u001b[0;31m# Point pt is valid: add it to the samples list and mark it as active\u001b[0m\u001b[0;34m\u001b[0m\u001b[0;34m\u001b[0m\u001b[0m\n",
      "\u001b[0;32m<ipython-input-28-a55b6472d5b2>\u001b[0m in \u001b[0;36mget_point\u001b[0;34m(ref_cell, k)\u001b[0m\n\u001b[1;32m     12\u001b[0m         \u001b[0mpossibilities\u001b[0m \u001b[0;34m=\u001b[0m \u001b[0mget_neighbours\u001b[0m\u001b[0;34m(\u001b[0m\u001b[0mref_cell\u001b[0m\u001b[0;34m,\u001b[0m \u001b[0mradius\u001b[0m\u001b[0;34m)\u001b[0m\u001b[0;34m\u001b[0m\u001b[0m\n\u001b[1;32m     13\u001b[0m         \u001b[0mpt\u001b[0m \u001b[0;34m=\u001b[0m \u001b[0mnp\u001b[0m\u001b[0;34m.\u001b[0m\u001b[0mrandom\u001b[0m\u001b[0;34m.\u001b[0m\u001b[0mchoice\u001b[0m\u001b[0;34m(\u001b[0m\u001b[0mpossibilities\u001b[0m\u001b[0;34m)\u001b[0m\u001b[0;34m\u001b[0m\u001b[0m\n\u001b[0;32m---> 14\u001b[0;31m         \u001b[0;32mif\u001b[0m \u001b[0mpoint_valid\u001b[0m\u001b[0;34m(\u001b[0m\u001b[0mpt\u001b[0m\u001b[0;34m)\u001b[0m\u001b[0;34m:\u001b[0m\u001b[0;34m\u001b[0m\u001b[0m\n\u001b[0m\u001b[1;32m     15\u001b[0m             \u001b[0;32mreturn\u001b[0m \u001b[0mpt\u001b[0m\u001b[0;34m\u001b[0m\u001b[0m\n\u001b[1;32m     16\u001b[0m         \u001b[0mi\u001b[0m \u001b[0;34m+=\u001b[0m \u001b[0;36m1\u001b[0m\u001b[0;34m\u001b[0m\u001b[0m\n",
      "\u001b[0;32m<ipython-input-24-c435e643e8f4>\u001b[0m in \u001b[0;36mpoint_valid\u001b[0;34m(pt)\u001b[0m\n\u001b[1;32m      9\u001b[0m     \u001b[0mneighbours\u001b[0m \u001b[0;34m=\u001b[0m \u001b[0mget_neighbours\u001b[0m\u001b[0;34m(\u001b[0m\u001b[0mpt\u001b[0m\u001b[0;34m,\u001b[0m \u001b[0;36m1000\u001b[0m\u001b[0;34m)\u001b[0m \u001b[0;31m# radius must be 2*lmax\u001b[0m\u001b[0;34m\u001b[0m\u001b[0m\n\u001b[1;32m     10\u001b[0m     \u001b[0;32mfor\u001b[0m \u001b[0midx\u001b[0m \u001b[0;32min\u001b[0m \u001b[0mneighbours\u001b[0m\u001b[0;34m:\u001b[0m\u001b[0;34m\u001b[0m\u001b[0m\n\u001b[0;32m---> 11\u001b[0;31m         \u001b[0mnearby_pt\u001b[0m \u001b[0;34m=\u001b[0m \u001b[0msamples\u001b[0m\u001b[0;34m[\u001b[0m\u001b[0midx\u001b[0m\u001b[0;34m]\u001b[0m\u001b[0;34m\u001b[0m\u001b[0m\n\u001b[0m\u001b[1;32m     12\u001b[0m         \u001b[0;31m# Squared distance between or candidate point, pt, and this nearby_pt.\u001b[0m\u001b[0;34m\u001b[0m\u001b[0;34m\u001b[0m\u001b[0m\n\u001b[1;32m     13\u001b[0m         \u001b[0mx\u001b[0m \u001b[0;34m=\u001b[0m \u001b[0mnp\u001b[0m\u001b[0;34m.\u001b[0m\u001b[0mvstack\u001b[0m\u001b[0;34m(\u001b[0m\u001b[0mclon_grid\u001b[0m\u001b[0;34m[\u001b[0m\u001b[0mpt\u001b[0m\u001b[0;34m]\u001b[0m\u001b[0;34m,\u001b[0m\u001b[0mclat_grid\u001b[0m\u001b[0;34m[\u001b[0m\u001b[0mpt\u001b[0m\u001b[0;34m]\u001b[0m\u001b[0;34m)\u001b[0m\u001b[0;34m.\u001b[0m\u001b[0mT\u001b[0m\u001b[0;34m\u001b[0m\u001b[0m\n",
      "\u001b[0;31mIndexError\u001b[0m: list index out of range"
     ]
    }
   ],
   "source": [
    "ncells_grid = len(clon_grid)\n",
    "ncells_range = np.arange(0,ncells_grid,1)\n",
    "#random_cells = random.sample(ncells_range, nclouds)\n",
    "\n",
    "cells = {index: None for index in ncells_range}\n",
    "\n",
    "print len(cells)\n",
    "print cells[5]\n",
    "\n",
    "# Pick a random point to start with.\n",
    "pt = np.random.choice(ncells_range)\n",
    "samples = [pt]\n",
    "# Our first sample is indexed at 0 in the samples list...\n",
    "cells[pt] = 0\n",
    "# ... and it is active, in the sense that we're going to look for more points\n",
    "# in its neighbourhood.\n",
    "active = [0]\n",
    "\n",
    "nsamples = 1\n",
    "# As long as there are points in the active list, keep trying to find samples.\n",
    "while active:\n",
    "    # choose a random \"reference\" point from the active list.\n",
    "    idx = np.random.choice(active)\n",
    "    refpt = samples[idx]\n",
    "    # Try to pick a new point relative to the reference point.\n",
    "    pt = get_point(refpt, 7)\n",
    "    if pt:\n",
    "        # Point pt is valid: add it to the samples list and mark it as active\n",
    "        samples.append(pt)\n",
    "        nsamples += 1\n",
    "        active.append(len(samples)-1)\n",
    "        cells[get_cell_coords(pt)] = len(samples) - 1\n",
    "    else:\n",
    "        # We had to give up looking for valid points near refpt, so remove it\n",
    "        # from the list of \"active\" points.\n",
    "        active.remove(idx)"
   ]
  }
 ],
 "metadata": {
  "kernelspec": {
   "display_name": "Python 2",
   "language": "python",
   "name": "python2"
  },
  "language_info": {
   "codemirror_mode": {
    "name": "ipython",
    "version": 2
   },
   "file_extension": ".py",
   "mimetype": "text/x-python",
   "name": "python",
   "nbconvert_exporter": "python",
   "pygments_lexer": "ipython2",
   "version": "2.7.14"
  }
 },
 "nbformat": 4,
 "nbformat_minor": 2
}
