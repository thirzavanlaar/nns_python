{
 "cells": [
  {
   "cell_type": "code",
   "execution_count": 1,
   "metadata": {},
   "outputs": [],
   "source": [
    "from matplotlib import pyplot as plt\n",
    "import numpy as np\n",
    "from netCDF4 import Dataset as NetCDFFile\n",
    "import math\n",
    "from scipy.spatial import distance\n",
    "from math import cos,sin,asin,sqrt\n",
    "import random\n",
    "from collections import Counter\n",
    "import time"
   ]
  },
  {
   "cell_type": "code",
   "execution_count": 2,
   "metadata": {},
   "outputs": [],
   "source": [
    "grid = NetCDFFile('/home/vanlaar/nns_python/NarvalDom2_NestE-R02B14_DOM03.nc')\n",
    "clon_grid = grid.variables['clon'][:]\n",
    "clat_grid = grid.variables['clat'][:]"
   ]
  },
  {
   "cell_type": "code",
   "execution_count": 3,
   "metadata": {},
   "outputs": [
    {
     "name": "stdout",
     "output_type": "stream",
     "text": [
      "9604.026672363281\n"
     ]
    }
   ],
   "source": [
    "cusize = NetCDFFile('/home/vanlaar/HDCP2data/TA_dom4/cusize_output_time44.nc')\n",
    "\n",
    "nclouds_real = cusize.variables['nclouds'][0]\n",
    "size = cusize.variables['size'][:]\n",
    "cloudbin = cusize.variables['cloud_bin']\n",
    "\n",
    "ncloud_bin = cusize.variables['ncloud_bin'][:]\n",
    "\n",
    "ncloudsint = int(nclouds_real)\n",
    "cloud_bin = cloudbin[0,0:ncloudsint]\n",
    "filledbin = int(max(cloud_bin))\n",
    "\n",
    "\n",
    "\n",
    "lmax = filledbin*size[0]\n",
    "print lmax\n",
    "\n",
    "counts = Counter(cloud_bin)\n",
    "array_counts = np.array(list(counts.items()))\n",
    "#print array_counts\n",
    "\n",
    "binnr = array_counts[:,0].astype(int)\n",
    "\n",
    "# Moet beter kunnen, maar alas:\n",
    "ncloud_bin = np.zeros(filledbin)\n",
    "for bb in range(0, filledbin):\n",
    "    idx = np.where(cloud_bin[:]==bb+1)\n",
    "    ncloud_bin[bb] = len(idx[0])\n",
    "\n",
    "\n",
    "#Counter({1: 3, 8: 1, 3: 1, 4: 1, 5: 1})\n",
    "probability = ncloud_bin/nclouds_real # probability of drawing from bin\n",
    "\n",
    "nrbins = len(size)\n",
    "nbins_range = np.arange(1,filledbin+1,1)\n",
    "\n",
    "\n"
   ]
  },
  {
   "cell_type": "code",
   "execution_count": 4,
   "metadata": {},
   "outputs": [],
   "source": [
    "def haversine(x, y):\n",
    "    radius = 6371000\n",
    "    lon1, lat1 = x\n",
    "    lon2, lat2 = y\n",
    "\n",
    "    dlat = lat2-lat1\n",
    "    dlon = lon2-lon1\n",
    "\n",
    "    a = sin(dlat/2)**2 + cos(lat1)*cos(lat2)*(sin(dlon/2))**2\n",
    "    c = 2*asin(sqrt(a))\n",
    "    distance = radius*c  #distance in m\n",
    "    return distance\n",
    "\n"
   ]
  },
  {
   "cell_type": "code",
   "execution_count": 5,
   "metadata": {},
   "outputs": [],
   "source": [
    "radius = 4000"
   ]
  },
  {
   "cell_type": "code",
   "execution_count": 6,
   "metadata": {},
   "outputs": [],
   "source": [
    "def get_neighbours(ref_cell, radius):\n",
    "    \"\"\" Returns the indeces of the cells that are within radius form the reference cell \n",
    "    \"\"\"\n",
    "\n",
    "    R = 6378.1 #Radius of the Earth\n",
    "    d = radius/1000. #Distance in km\n",
    "\n",
    "    maxlat_brng = np.deg2rad(0)\n",
    "    maxlon_brng = np.deg2rad(90)\n",
    "    minlat_brng = np.deg2rad(180)\n",
    "    minlon_brng = np.deg2rad(270)\n",
    "\n",
    "    lat1 = clat_grid[ref_cell]\n",
    "    lon1 = clon_grid[ref_cell]\n",
    "\n",
    "    maxlat = math.asin( math.sin(lat1)*math.cos(d/R) + math.cos(lat1)*math.sin(d/R)*math.cos(maxlat_brng))\n",
    "    maxlon = lon1 + math.atan2(math.sin(maxlon_brng)*math.sin(d/R)*math.cos(lat1), math.cos(d/R)-math.sin(lat1)*math.sin(lat1))\n",
    "    minlat = math.asin( math.sin(lat1)*math.cos(d/R) + math.cos(lat1)*math.sin(d/R)*math.cos(minlat_brng))\n",
    "    minlon = lon1 + math.atan2(math.sin(minlon_brng)*math.sin(d/R)*math.cos(lat1), math.cos(d/R)-math.sin(lat1)*math.sin(lat1))\n",
    "\n",
    "    # Gives you a square box around the reference cell:\n",
    "    cells_box, = np.where((clon_grid < maxlon) & (clon_grid > minlon) & (clat_grid < maxlat) & (clat_grid > minlat))\n",
    "        \n",
    "    cellcentres = np.vstack((clon_grid[cells_box],clat_grid[cells_box])).T\n",
    "    middlecell = np.array([[lon1,lat1]])\n",
    "\n",
    "    # Compute distance for every point to the reference cell...\n",
    "    distances = distance.cdist(middlecell, cellcentres, haversine)\n",
    "\n",
    "    # ...and select those that are inside the given radius to obtain a circle around the reference cell.\n",
    "    dist_idx = np.where(distances < d*1000)\n",
    "    cells_circle = cells_box[dist_idx[1]]\n",
    "\n",
    "    #print 'cells_circle:',cells_circle\n",
    "    \n",
    "    #neighbour_cell = cells[cells_circle]\n",
    "    #neighbour_cell = cells[cells_circle[0]]\n",
    "    #if neighbour_cell is not None:\n",
    "        # This cell is occupied: store this index of the contained point\n",
    "    #    neighbours.append(neighbour_cell)\n",
    "    \n",
    "    #neighbours = []\n",
    "    #for dx, dy in dxdy:\n",
    "    #    neighbour_coords = coords[0] + dx, coords[1] + dy\n",
    "    #     if not (0 <= neighbour_coords[0] < nx and\n",
    "    #             0 <= neighbour_coords[1] < ny):\n",
    "    #         # We're off the grid: no neighbours here.\n",
    "    #        continue\n",
    "    #   neighbour_cell = cells[neighbour_coords]\n",
    "    #     if neighbour_cell is not None:\n",
    "    #         # This cell is occupied: store this index of the contained point    .\n",
    "    #        neighbours.append(neighbour_cell)\n",
    "    #return neighbours\n",
    "\n",
    "        \n",
    "    return cells_circle\n",
    "\n",
    "\n",
    "\n",
    "\n",
    "#neighbour_cell = cells[neighbour_coords]\n",
    "#        if neighbour_cell is not None:\n",
    "#            # This cell is occupied: store this index of the contained point    .\n",
    "#            neighbours.append(neighbour_cell)\n",
    "\n"
   ]
  },
  {
   "cell_type": "code",
   "execution_count": 7,
   "metadata": {},
   "outputs": [
    {
     "name": "stdout",
     "output_type": "stream",
     "text": [
      "[  148   149   150   151   152 10730 10732 10733]\n"
     ]
    }
   ],
   "source": [
    "cell_index = 150\n",
    "#size = 10\n",
    "\n",
    "cells_circle = get_neighbours(cell_index,300)\n",
    "print cells_circle\n"
   ]
  },
  {
   "cell_type": "code",
   "execution_count": 53,
   "metadata": {},
   "outputs": [],
   "source": [
    "def point_valid(pt, pt_size):\n",
    "    \"\"\"Is pt a valid point to emit as a sample?\n",
    "\n",
    "    It must be no closer than r from any other point: check the cells in its\n",
    "    immediate neighbourhood.\n",
    "\n",
    "    \"\"\"\n",
    "    \n",
    "    neighbours = get_neighbours(pt, pt_size+lmax) # radius must be 2*lmax\n",
    "    for idx in neighbours:\n",
    "    #for idx in samples:\n",
    "        if idx in samples:\n",
    "            size_idx = samples.index(idx)\n",
    "            nearby_pt = idx\n",
    "            nearby_size = sample_size[size_idx]\n",
    "            # Squared distance between or candidate point, pt, and this nearby_pt.\n",
    "            x = clon_grid[pt],clat_grid[pt]\n",
    "            y = clon_grid[nearby_pt],clat_grid[nearby_pt]\n",
    "            distance = haversine(x,y)\n",
    "            if distance < pt_size + nearby_size:\n",
    "                # The points are too close, so pt is not a candidate.\n",
    "                return False\n",
    "    # All points tested: if we're here, pt is valid\n",
    "    return True\n",
    "\n"
   ]
  },
  {
   "cell_type": "code",
   "execution_count": 49,
   "metadata": {},
   "outputs": [],
   "source": [
    "def get_point(ref_cell, ref_radius, k):\n",
    "    \"\"\"Try to find a candidate cell relative to ref_cell to emit in the sample.\n",
    "\n",
    "    We draw up to k points from the annulus of inner radius r, outer radius 2r\n",
    "    around the reference point, refpt. If none of them are suitable (because\n",
    "    they're too close to existing points in the sample), return False.\n",
    "    Otherwise, return the pt.\n",
    "\n",
    "    \"\"\"\n",
    "    i = 0\n",
    "    while i < k:\n",
    "        #circle = get_neighbours(ref_cell, ref_radius+lmax)\n",
    "        #keys = np.array(list(cells.keys()))\n",
    "        #values = np.array(list(cells.values()))       \n",
    "        #possible_cells = keys[circle]\n",
    "        #possibilities = []\n",
    "        #if values[possible_cells] is not None:\n",
    "        #    possibilities.append(possible_cells)\n",
    "        possibilities = get_neighbours(ref_cell, ref_radius+lmax) \n",
    "        pt = np.random.choice(possibilities)\n",
    "        binnr = np.random.choice(nbins_range,1, True, probability)\n",
    "        pt_size = binnr*size[0]\n",
    "        if point_valid(pt, pt_size):\n",
    "            return pt, pt_size\n",
    "        i += 1\n",
    "        \n",
    "    # We failed to find a suitable point in the vicinity of refpt.\n",
    "    return False, False\n",
    "\n",
    "#test = get_point(150, 5)"
   ]
  },
  {
   "cell_type": "code",
   "execution_count": 55,
   "metadata": {
    "scrolled": true
   },
   "outputs": [
    {
     "ename": "KeyboardInterrupt",
     "evalue": "",
     "output_type": "error",
     "traceback": [
      "\u001b[0;31m---------------------------------------------------------------------------\u001b[0m",
      "\u001b[0;31mKeyboardInterrupt\u001b[0m                         Traceback (most recent call last)",
      "\u001b[0;32m<ipython-input-55-6f28a2fe7db1>\u001b[0m in \u001b[0;36m<module>\u001b[0;34m()\u001b[0m\n\u001b[1;32m     25\u001b[0m     \u001b[0mrefpt\u001b[0m \u001b[0;34m=\u001b[0m \u001b[0msamples\u001b[0m\u001b[0;34m[\u001b[0m\u001b[0midx\u001b[0m\u001b[0;34m]\u001b[0m\u001b[0;34m\u001b[0m\u001b[0m\n\u001b[1;32m     26\u001b[0m     \u001b[0;31m# Try to pick a new point relative to the reference point.\u001b[0m\u001b[0;34m\u001b[0m\u001b[0;34m\u001b[0m\u001b[0m\n\u001b[0;32m---> 27\u001b[0;31m     \u001b[0mnewpoint\u001b[0m \u001b[0;34m=\u001b[0m \u001b[0mget_point\u001b[0m\u001b[0;34m(\u001b[0m\u001b[0mrefpt\u001b[0m\u001b[0;34m,\u001b[0m \u001b[0msample_size\u001b[0m\u001b[0;34m[\u001b[0m\u001b[0midx\u001b[0m\u001b[0;34m]\u001b[0m\u001b[0;34m,\u001b[0m \u001b[0;36m20\u001b[0m\u001b[0;34m)\u001b[0m\u001b[0;34m\u001b[0m\u001b[0m\n\u001b[0m\u001b[1;32m     28\u001b[0m     \u001b[0mpt\u001b[0m \u001b[0;34m=\u001b[0m \u001b[0mnewpoint\u001b[0m\u001b[0;34m[\u001b[0m\u001b[0;36m0\u001b[0m\u001b[0;34m]\u001b[0m\u001b[0;34m\u001b[0m\u001b[0m\n\u001b[1;32m     29\u001b[0m     \u001b[0mpt_size\u001b[0m \u001b[0;34m=\u001b[0m \u001b[0mnewpoint\u001b[0m\u001b[0;34m[\u001b[0m\u001b[0;36m1\u001b[0m\u001b[0;34m]\u001b[0m\u001b[0;34m\u001b[0m\u001b[0m\n",
      "\u001b[0;32m<ipython-input-49-629dfce0b4e6>\u001b[0m in \u001b[0;36mget_point\u001b[0;34m(ref_cell, ref_radius, k)\u001b[0m\n\u001b[1;32m     21\u001b[0m         \u001b[0mbinnr\u001b[0m \u001b[0;34m=\u001b[0m \u001b[0mnp\u001b[0m\u001b[0;34m.\u001b[0m\u001b[0mrandom\u001b[0m\u001b[0;34m.\u001b[0m\u001b[0mchoice\u001b[0m\u001b[0;34m(\u001b[0m\u001b[0mnbins_range\u001b[0m\u001b[0;34m,\u001b[0m\u001b[0;36m1\u001b[0m\u001b[0;34m,\u001b[0m \u001b[0mTrue\u001b[0m\u001b[0;34m,\u001b[0m \u001b[0mprobability\u001b[0m\u001b[0;34m)\u001b[0m\u001b[0;34m\u001b[0m\u001b[0m\n\u001b[1;32m     22\u001b[0m         \u001b[0mpt_size\u001b[0m \u001b[0;34m=\u001b[0m \u001b[0mbinnr\u001b[0m\u001b[0;34m*\u001b[0m\u001b[0msize\u001b[0m\u001b[0;34m[\u001b[0m\u001b[0;36m0\u001b[0m\u001b[0;34m]\u001b[0m\u001b[0;34m\u001b[0m\u001b[0m\n\u001b[0;32m---> 23\u001b[0;31m         \u001b[0;32mif\u001b[0m \u001b[0mpoint_valid\u001b[0m\u001b[0;34m(\u001b[0m\u001b[0mpt\u001b[0m\u001b[0;34m,\u001b[0m \u001b[0mpt_size\u001b[0m\u001b[0;34m)\u001b[0m\u001b[0;34m:\u001b[0m\u001b[0;34m\u001b[0m\u001b[0m\n\u001b[0m\u001b[1;32m     24\u001b[0m             \u001b[0;32mreturn\u001b[0m \u001b[0mpt\u001b[0m\u001b[0;34m,\u001b[0m \u001b[0mpt_size\u001b[0m\u001b[0;34m\u001b[0m\u001b[0m\n\u001b[1;32m     25\u001b[0m         \u001b[0mi\u001b[0m \u001b[0;34m+=\u001b[0m \u001b[0;36m1\u001b[0m\u001b[0;34m\u001b[0m\u001b[0m\n",
      "\u001b[0;32m<ipython-input-53-c16e7b0e5d8e>\u001b[0m in \u001b[0;36mpoint_valid\u001b[0;34m(pt, pt_size)\u001b[0m\n\u001b[1;32m     10\u001b[0m     \u001b[0;32mfor\u001b[0m \u001b[0midx\u001b[0m \u001b[0;32min\u001b[0m \u001b[0mneighbours\u001b[0m\u001b[0;34m:\u001b[0m\u001b[0;34m\u001b[0m\u001b[0m\n\u001b[1;32m     11\u001b[0m     \u001b[0;31m#for idx in samples:\u001b[0m\u001b[0;34m\u001b[0m\u001b[0;34m\u001b[0m\u001b[0m\n\u001b[0;32m---> 12\u001b[0;31m         \u001b[0;32mif\u001b[0m \u001b[0midx\u001b[0m \u001b[0;32min\u001b[0m \u001b[0msamples\u001b[0m\u001b[0;34m:\u001b[0m\u001b[0;34m\u001b[0m\u001b[0m\n\u001b[0m\u001b[1;32m     13\u001b[0m             \u001b[0msize_idx\u001b[0m \u001b[0;34m=\u001b[0m \u001b[0msamples\u001b[0m\u001b[0;34m.\u001b[0m\u001b[0mindex\u001b[0m\u001b[0;34m(\u001b[0m\u001b[0midx\u001b[0m\u001b[0;34m)\u001b[0m\u001b[0;34m\u001b[0m\u001b[0m\n\u001b[1;32m     14\u001b[0m             \u001b[0mnearby_pt\u001b[0m \u001b[0;34m=\u001b[0m \u001b[0midx\u001b[0m\u001b[0;34m\u001b[0m\u001b[0m\n",
      "\u001b[0;31mKeyboardInterrupt\u001b[0m: "
     ]
    }
   ],
   "source": [
    "ncells_grid = len(clon_grid)\n",
    "ncells_range = np.arange(0,ncells_grid,1)\n",
    "#random_cells = random.sample(ncells_range, nclouds)\n",
    "\n",
    "cells = {index: None for index in ncells_range+1}\n",
    "\n",
    "# Pick a random point to start with.\n",
    "pt = np.random.choice(ncells_range)\n",
    "samples = [pt]\n",
    "binnr = np.random.choice(nbins_range, 1, True, probability)\n",
    "\n",
    "sample_size = [np.float(binnr)*size[0]]\n",
    "# Our first sample is indexed at 0 in the samples list...\n",
    "cells[pt] = 0\n",
    "# ... and it is active, in the sense that we're going to look for more points\n",
    "# in its neighbourhood.\n",
    "active = [0]\n",
    "\n",
    "nsamples = 1\n",
    "t0 = time.time()\n",
    "# As long as there are points in the active list, keep trying to find samples.\n",
    "while active:\n",
    "    # choose a random \"reference\" point from the active list.\n",
    "    idx = np.random.choice(active)\n",
    "    refpt = samples[idx]\n",
    "    # Try to pick a new point relative to the reference point.\n",
    "    newpoint = get_point(refpt, sample_size[idx], 20)\n",
    "    pt = newpoint[0]\n",
    "    pt_size = newpoint[1]\n",
    "    if pt:\n",
    "        # Point pt is valid: add it to the samples list and mark it as active\n",
    "        samples.append(pt)\n",
    "        sample_size.append(pt_size)\n",
    "        nsamples += 1\n",
    "        active.append(len(samples)-1)\n",
    "        cells[pt] = len(samples) - 1\n",
    "    else:\n",
    "        # We had to give up looking for valid points near refpt, so remove it\n",
    "        # from the list of \"active\" points.\n",
    "        active.remove(idx)\n",
    "    if nsamples > 5000:\n",
    "        break\n",
    "        \n",
    "print 'nsamples:',nsamples\n",
    "elapsed = time.time() - t0\n",
    "print \"... done in %s.\" % time.strftime(\"%H:%M:%S\", time.gmtime(elapsed))"
   ]
  },
  {
   "cell_type": "code",
   "execution_count": 56,
   "metadata": {},
   "outputs": [
    {
     "name": "stdout",
     "output_type": "stream",
     "text": [
      "-0.9773667113560276\n"
     ]
    },
    {
     "data": {
      "image/png": "[encoded data removed]",
      "text/plain": [
       "<matplotlib.figure.Figure at 0x7f398e1af710>"
      ]
     },
     "metadata": {},
     "output_type": "display_data"
    }
   ],
   "source": [
    "#plt.scatter(*zip(*samples), color='r', alpha=0.6, lw=0)\n",
    "print max(clon_grid)\n",
    "plt.scatter(clon_grid[samples],clat_grid[samples], color='r')\n",
    "plt.xlim(min(clon_grid), max(clon_grid))\n",
    "plt.ylim(min(clat_grid), max(clat_grid))\n",
    "#plt.xlim(-0.990, -0.983)\n",
    "#plt.ylim(0.225, 0.235)\n",
    "#plt.axis('off')\n",
    "plt.show()"
   ]
  },
  {
   "cell_type": "code",
   "execution_count": null,
   "metadata": {},
   "outputs": [],
   "source": []
  }
 ],
 "metadata": {
  "kernelspec": {
   "display_name": "Python 2",
   "language": "python",
   "name": "python2"
  },
  "language_info": {
   "codemirror_mode": {
    "name": "ipython",
    "version": 2
   },
   "file_extension": ".py",
   "mimetype": "text/x-python",
   "name": "python",
   "nbconvert_exporter": "python",
   "pygments_lexer": "ipython2",
   "version": "2.7.14"
  }
 },
 "nbformat": 4,
 "nbformat_minor": 2
}
